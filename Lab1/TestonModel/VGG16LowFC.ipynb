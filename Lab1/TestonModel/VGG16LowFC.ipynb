{
 "cells": [
  {
   "cell_type": "code",
   "execution_count": 1,
   "metadata": {},
   "outputs": [
    {
     "name": "stderr",
     "output_type": "stream",
     "text": [
      "2025-03-11 20:50:24.087007: I tensorflow/core/util/port.cc:153] oneDNN custom operations are on. You may see slightly different numerical results due to floating-point round-off errors from different computation orders. To turn them off, set the environment variable `TF_ENABLE_ONEDNN_OPTS=0`.\n",
      "2025-03-11 20:50:24.123242: E external/local_xla/xla/stream_executor/cuda/cuda_fft.cc:477] Unable to register cuFFT factory: Attempting to register factory for plugin cuFFT when one has already been registered\n",
      "WARNING: All log messages before absl::InitializeLog() is called are written to STDERR\n",
      "E0000 00:00:1741701024.140264  258144 cuda_dnn.cc:8310] Unable to register cuDNN factory: Attempting to register factory for plugin cuDNN when one has already been registered\n",
      "E0000 00:00:1741701024.145222  258144 cuda_blas.cc:1418] Unable to register cuBLAS factory: Attempting to register factory for plugin cuBLAS when one has already been registered\n",
      "2025-03-11 20:50:24.188213: I tensorflow/core/platform/cpu_feature_guard.cc:210] This TensorFlow binary is optimized to use available CPU instructions in performance-critical operations.\n",
      "To enable the following instructions: AVX2 AVX512F AVX512_VNNI FMA, in other operations, rebuild TensorFlow with the appropriate compiler flags.\n"
     ]
    }
   ],
   "source": [
    "import os\n",
    "import numpy as np\n",
    "import tensorflow as tf\n",
    "import matplotlib.pyplot as plt\n",
    "from tensorflow.keras.applications import VGG16\n",
    "from tensorflow.keras.layers import Dense, Dropout, BatchNormalization, GlobalAveragePooling2D, Activation\n",
    "from tensorflow.keras.models import Model, load_model\n",
    "from tensorflow.keras.optimizers import Adam\n",
    "from tensorflow.keras.callbacks import ModelCheckpoint, EarlyStopping, ReduceLROnPlateau\n",
    "from tensorflow.keras.regularizers import l2\n",
    "#from data_loader import load_npy_files, create_tf_dataset  # Import dataset utilities\n"
   ]
  },
  {
   "cell_type": "code",
   "execution_count": 2,
   "metadata": {},
   "outputs": [
    {
     "name": "stdout",
     "output_type": "stream",
     "text": [
      "Using GPU: PhysicalDevice(name='/physical_device:GPU:0', device_type='GPU')\n"
     ]
    }
   ],
   "source": [
    "gpus = tf.config.experimental.list_physical_devices('GPU')\n",
    "if gpus:\n",
    "    try:\n",
    "        for gpu in gpus:\n",
    "            tf.config.experimental.set_memory_growth(gpu, True)  # Prevents memory overflow\n",
    "        print(f\"Using GPU: {gpus[0]}\")\n",
    "    except RuntimeError as e:\n",
    "        print(e)\n",
    "else:\n",
    "    print(\"No GPU found, using CPU.\")"
   ]
  },
  {
   "cell_type": "code",
   "execution_count": 3,
   "metadata": {},
   "outputs": [
    {
     "name": "stdout",
     "output_type": "stream",
     "text": [
      "GPU memory growth enabled.\n"
     ]
    }
   ],
   "source": [
    "gpus = tf.config.experimental.list_physical_devices('GPU')\n",
    "if gpus:\n",
    "    try:\n",
    "        for gpu in gpus:\n",
    "            tf.config.experimental.set_memory_growth(gpu, True)\n",
    "        print(\"GPU memory growth enabled.\")\n",
    "    except RuntimeError as e:\n",
    "        print(e)\n"
   ]
  },
  {
   "cell_type": "code",
   "execution_count": 4,
   "metadata": {},
   "outputs": [],
   "source": [
    "\n",
    "# Load dataset paths\n",
    "X_train_path = \"/media/tairo/Storages/DataSetAnimals/.npy format/X_train.npy\"\n",
    "y_train_path = \"/media/tairo/Storages/DataSetAnimals/.npy format/y_train.npy\"\n",
    "X_val_path = \"/media/tairo/Storages/DataSetAnimals/.npy format/X_val.npy\"\n",
    "y_val_path = \"/media/tairo/Storages/DataSetAnimals/.npy format/y_val.npy\""
   ]
  },
  {
   "cell_type": "code",
   "execution_count": 5,
   "metadata": {},
   "outputs": [],
   "source": [
    "# Load dataset\n",
    "X_train = np.load(X_train_path)\n",
    "y_train = np.load(y_train_path)\n",
    "X_val = np.load(X_val_path)\n",
    "y_val = np.load(y_val_path)\n"
   ]
  },
  {
   "cell_type": "code",
   "execution_count": 6,
   "metadata": {},
   "outputs": [],
   "source": [
    "# Detect number of classes\n",
    "class_indices = np.unique(y_train)\n",
    "num_classes = len(class_indices)\n",
    "\n",
    "# Create a class mapping (assumes class labels are integers: 0, 1, 2, ...)\n",
    "class_map = {idx: f\"Class_{idx}\" for idx in class_indices}  "
   ]
  },
  {
   "cell_type": "code",
   "execution_count": 7,
   "metadata": {},
   "outputs": [],
   "source": [
    "# Convert labels to one-hot encoding\n",
    "num_classes = len(np.unique(y_train))  \n",
    "y_train = tf.keras.utils.to_categorical(y_train, num_classes)\n",
    "y_val = tf.keras.utils.to_categorical(y_val, num_classes)"
   ]
  },
  {
   "cell_type": "code",
   "execution_count": 8,
   "metadata": {},
   "outputs": [
    {
     "name": "stdout",
     "output_type": "stream",
     "text": [
      "Detected 3 classes: {np.int64(0): 'Class_0', np.int64(1): 'Class_1', np.int64(2): 'Class_2'}\n",
      "\n",
      "Train Labels: (array([0, 1, 2]), array([700, 700, 700]))\n",
      "Validation Labels: (array([0, 1, 2]), array([200, 200, 200]))\n"
     ]
    }
   ],
   "source": [
    "# Print class information\n",
    "print(f\"Detected {num_classes} classes:\", class_map)\n",
    "print(\"\\nTrain Labels:\", np.unique(np.argmax(y_train, axis=1), return_counts=True))\n",
    "print(\"Validation Labels:\", np.unique(np.argmax(y_val, axis=1), return_counts=True))"
   ]
  },
  {
   "cell_type": "code",
   "execution_count": 9,
   "metadata": {},
   "outputs": [
    {
     "name": "stderr",
     "output_type": "stream",
     "text": [
      "I0000 00:00:1741701028.470847  258144 gpu_device.cc:2022] Created device /job:localhost/replica:0/task:0/device:GPU:0 with 1922 MB memory:  -> device: 0, name: NVIDIA GeForce RTX 3050 Laptop GPU, pci bus id: 0000:01:00.0, compute capability: 8.6\n"
     ]
    }
   ],
   "source": [
    "\n",
    "# Define batch size (reduce to fit in GPU memory)\n",
    "BATCH_SIZE = 4  # Reduce from 32 to avoid GPU memory overflow\n",
    "\n",
    "# Convert NumPy arrays into TensorFlow dataset (streaming)\n",
    "train_dataset = tf.data.Dataset.from_tensor_slices((X_train, y_train))\n",
    "train_dataset = train_dataset.shuffle(len(X_train)).batch(BATCH_SIZE).prefetch(tf.data.AUTOTUNE)\n",
    "val_dataset = tf.data.Dataset.from_tensor_slices((X_val, y_val))\n",
    "val_dataset = val_dataset.batch(BATCH_SIZE).prefetch(tf.data.AUTOTUNE)"
   ]
  },
  {
   "cell_type": "code",
   "execution_count": 10,
   "metadata": {},
   "outputs": [],
   "source": [
    "def build_vgg16(input_shape=(224, 224, 3), num_classes=4, reg_strength=0.0005):\n",

    "    # Load VGG16 Pretrained Model (Without Fully Connected Top Layers)\n",
    "    base_model = VGG16(input_shape=input_shape, include_top=False, weights=\"imagenet\")\n",
    "    \n",
    "    # Freeze base model layers initially\n",
    "    base_model.trainable = False  \n",
    "    \n",
    "    # Extract features from VGG16\n",
    "    x = base_model.output  \n",
    "    x = GlobalAveragePooling2D()(x)  # Global Average Pooling\n",
    "\n",
    "    # Fully Connected Layers (64 → 32 → 16)\n",
    "    x = Dense(32, kernel_regularizer=l2(reg_strength))(x)\n",
    "    x = BatchNormalization()(x)\n",
    "    x = Activation('relu')(x)\n",
    "    x = Dropout(0.5)(x)\n",
    "\n",
    "    x = Dense(16, kernel_regularizer=l2(reg_strength))(x)\n",
    "    x = BatchNormalization()(x)\n",
    "    x = Activation('relu')(x)\n",
    "    x = Dropout(0.4)(x)\n",
    "\n",
    "    x = Dense(8, kernel_regularizer=l2(reg_strength))(x)\n",
    "    x = BatchNormalization()(x)\n",
    "    x = Activation('relu')(x)\n",
    "    x = Dropout(0.3)(x)\n",
    "\n",
    "    # Final Classification Layer\n",
    "    outputs = Dense(num_classes, activation='softmax', dtype=\"float32\", kernel_regularizer=l2(reg_strength))(x)\n",
    "\n",
    "    # Build Model\n",
    "    model = Model(inputs=base_model.input, outputs=outputs)\n",
    "    return model"
   ]
  },
  {
   "cell_type": "code",
   "execution_count": 11,
   "metadata": {},
   "outputs": [],
   "source": [
    "# Build the VGG16 model\n",
    "model = build_vgg16(input_shape=(224, 224, 3), num_classes=num_classes)\n"
   ]
  },
  {
   "cell_type": "code",
   "execution_count": 12,
   "metadata": {},
   "outputs": [],
   "source": [
    "# Compile the model\n",
    "model.compile(optimizer=Adam(learning_rate=0.001),\n",
    "              loss=\"categorical_crossentropy\",\n",
    "              metrics=[\"accuracy\"])\n"
   ]
  },
  {
   "cell_type": "code",
   "execution_count": 13,
   "metadata": {},
   "outputs": [],
   "source": [
    "# Define callbacks\n",
    "BEST_MODEL_PATH = \"VGG16(1).keras\"\n",
    "\n",
    "checkpoint = ModelCheckpoint(\n",
    "    BEST_MODEL_PATH, monitor=\"val_loss\", save_best_only=True, save_weights_only=False, mode=\"min\", verbose=1\n",
    ")\n",
    "\n",
    "early_stopping = EarlyStopping(\n",
    "    monitor=\"val_loss\", patience=20, restore_best_weights=True, mode=\"min\"\n",
    ")\n",
    "\n",
    "reduce_lr = ReduceLROnPlateau(\n",
    "    monitor=\"val_loss\", factor=0.5, patience=5, verbose=1, min_lr=1e-7\n",
    ")"
   ]
  },
  {
   "cell_type": "code",
   "execution_count": 14,
   "metadata": {},
   "outputs": [
    {
     "name": "stdout",
     "output_type": "stream",
     "text": [
      "Epoch 1/200\n"
     ]
    },
    {
     "name": "stderr",
     "output_type": "stream",
     "text": [
      "WARNING: All log messages before absl::InitializeLog() is called are written to STDERR\n",
      "I0000 00:00:1741701032.769793  258384 service.cc:148] XLA service 0x7fdd7c015e40 initialized for platform CUDA (this does not guarantee that XLA will be used). Devices:\n",
      "I0000 00:00:1741701032.769811  258384 service.cc:156]   StreamExecutor device (0): NVIDIA GeForce RTX 3050 Laptop GPU, Compute Capability 8.6\n",
      "2025-03-11 20:50:32.818854: I tensorflow/compiler/mlir/tensorflow/utils/dump_mlir_util.cc:268] disabling MLIR crash reproducer, set env var `MLIR_CRASH_REPRODUCER_DIRECTORY` to enable.\n",
      "I0000 00:00:1741701033.134774  258384 cuda_dnn.cc:529] Loaded cuDNN version 90300\n",
      "2025-03-11 20:50:34.455726: W external/local_xla/xla/tsl/framework/bfc_allocator.cc:306] Allocator (GPU_0_bfc) ran out of memory trying to allocate 114.14MiB with freed_by_count=0. The caller indicates that this is not a failure, but this may mean that there could be performance gains if more memory were available.\n",
      "2025-03-11 20:50:34.475604: W external/local_xla/xla/tsl/framework/bfc_allocator.cc:306] Allocator (GPU_0_bfc) ran out of memory trying to allocate 114.14MiB with freed_by_count=0. The caller indicates that this is not a failure, but this may mean that there could be performance gains if more memory were available.\n",
      "2025-03-11 20:50:34.629154: W external/local_xla/xla/tsl/framework/bfc_allocator.cc:306] Allocator (GPU_0_bfc) ran out of memory trying to allocate 114.14MiB with freed_by_count=0. The caller indicates that this is not a failure, but this may mean that there could be performance gains if more memory were available.\n",
      "2025-03-11 20:50:34.629188: W external/local_xla/xla/tsl/framework/bfc_allocator.cc:306] Allocator (GPU_0_bfc) ran out of memory trying to allocate 114.14MiB with freed_by_count=0. The caller indicates that this is not a failure, but this may mean that there could be performance gains if more memory were available.\n",
      "2025-03-11 20:50:34.847447: W external/local_xla/xla/tsl/framework/bfc_allocator.cc:306] Allocator (GPU_0_bfc) ran out of memory trying to allocate 114.14MiB with freed_by_count=0. The caller indicates that this is not a failure, but this may mean that there could be performance gains if more memory were available.\n",
      "2025-03-11 20:50:34.944551: W external/local_xla/xla/tsl/framework/bfc_allocator.cc:306] Allocator (GPU_0_bfc) ran out of memory trying to allocate 37.25MiB with freed_by_count=0. The caller indicates that this is not a failure, but this may mean that there could be performance gains if more memory were available.\n",
      "2025-03-11 20:50:34.944612: W external/local_xla/xla/tsl/framework/bfc_allocator.cc:306] Allocator (GPU_0_bfc) ran out of memory trying to allocate 898.56MiB with freed_by_count=0. The caller indicates that this is not a failure, but this may mean that there could be performance gains if more memory were available.\n",
      "2025-03-11 20:50:35.330757: W external/local_xla/xla/tsl/framework/bfc_allocator.cc:306] Allocator (GPU_0_bfc) ran out of memory trying to allocate 347.88MiB with freed_by_count=0. The caller indicates that this is not a failure, but this may mean that there could be performance gains if more memory were available.\n",
      "2025-03-11 20:50:35.880714: W external/local_xla/xla/tsl/framework/bfc_allocator.cc:306] Allocator (GPU_0_bfc) ran out of memory trying to allocate 459.25MiB with freed_by_count=0. The caller indicates that this is not a failure, but this may mean that there could be performance gains if more memory were available.\n",
      "2025-03-11 20:50:36.432263: W external/local_xla/xla/tsl/framework/bfc_allocator.cc:306] Allocator (GPU_0_bfc) ran out of memory trying to allocate 245.50MiB with freed_by_count=0. The caller indicates that this is not a failure, but this may mean that there could be performance gains if more memory were available.\n"
     ]
    },
    {
     "name": "stdout",
     "output_type": "stream",
     "text": [
      "\u001b[1m  5/525\u001b[0m \u001b[37m━━━━━━━━━━━━━━━━━━━━\u001b[0m \u001b[1m19s\u001b[0m 38ms/step - accuracy: 0.4508 - loss: 1.1367"
     ]
    },
    {
     "name": "stderr",
     "output_type": "stream",
     "text": [
      "I0000 00:00:1741701038.694162  258384 device_compiler.h:188] Compiled cluster using XLA!  This line is logged at most once for the lifetime of the process.\n"
     ]
    },
    {
     "name": "stdout",
     "output_type": "stream",
     "text": [
      "\u001b[1m525/525\u001b[0m \u001b[32m━━━━━━━━━━━━━━━━━━━━\u001b[0m\u001b[37m\u001b[0m \u001b[1m0s\u001b[0m 38ms/step - accuracy: 0.3828 - loss: 1.2188\n",
      "Epoch 1: val_loss improved from inf to 0.85509, saving model to VGG16(1).keras\n",
      "\u001b[1m525/525\u001b[0m \u001b[32m━━━━━━━━━━━━━━━━━━━━\u001b[0m\u001b[37m\u001b[0m \u001b[1m35s\u001b[0m 51ms/step - accuracy: 0.3829 - loss: 1.2187 - val_accuracy: 0.8383 - val_loss: 0.8551 - learning_rate: 0.0010\n",
      "Epoch 2/200\n",
      "\u001b[1m525/525\u001b[0m \u001b[32m━━━━━━━━━━━━━━━━━━━━\u001b[0m\u001b[37m\u001b[0m \u001b[1m0s\u001b[0m 38ms/step - accuracy: 0.5762 - loss: 0.9632\n",
      "Epoch 2: val_loss improved from 0.85509 to 0.56103, saving model to VGG16(1).keras\n",
      "\u001b[1m525/525\u001b[0m \u001b[32m━━━━━━━━━━━━━━━━━━━━\u001b[0m\u001b[37m\u001b[0m \u001b[1m26s\u001b[0m 49ms/step - accuracy: 0.5762 - loss: 0.9632 - val_accuracy: 0.9300 - val_loss: 0.5610 - learning_rate: 0.0010\n",
      "Epoch 3/200\n",
      "\u001b[1m525/525\u001b[0m \u001b[32m━━━━━━━━━━━━━━━━━━━━\u001b[0m\u001b[37m\u001b[0m \u001b[1m0s\u001b[0m 38ms/step - accuracy: 0.6539 - loss: 0.8979\n",
      "Epoch 3: val_loss improved from 0.56103 to 0.46704, saving model to VGG16(1).keras\n",
      "\u001b[1m525/525\u001b[0m \u001b[32m━━━━━━━━━━━━━━━━━━━━\u001b[0m\u001b[37m\u001b[0m \u001b[1m26s\u001b[0m 49ms/step - accuracy: 0.6540 - loss: 0.8978 - val_accuracy: 0.9500 - val_loss: 0.4670 - learning_rate: 0.0010\n",
      "Epoch 4/200\n",
      "\u001b[1m525/525\u001b[0m \u001b[32m━━━━━━━━━━━━━━━━━━━━\u001b[0m\u001b[37m\u001b[0m \u001b[1m0s\u001b[0m 38ms/step - accuracy: 0.6773 - loss: 0.8329\n",
      "Epoch 4: val_loss improved from 0.46704 to 0.44979, saving model to VGG16(1).keras\n",
      "\u001b[1m525/525\u001b[0m \u001b[32m━━━━━━━━━━━━━━━━━━━━\u001b[0m\u001b[37m\u001b[0m \u001b[1m26s\u001b[0m 50ms/step - accuracy: 0.6773 - loss: 0.8329 - val_accuracy: 0.9267 - val_loss: 0.4498 - learning_rate: 0.0010\n",
      "Epoch 5/200\n",
      "\u001b[1m525/525\u001b[0m \u001b[32m━━━━━━━━━━━━━━━━━━━━\u001b[0m\u001b[37m\u001b[0m \u001b[1m0s\u001b[0m 39ms/step - accuracy: 0.6835 - loss: 0.8197\n",
      "Epoch 5: val_loss improved from 0.44979 to 0.42046, saving model to VGG16(1).keras\n",
      "\u001b[1m525/525\u001b[0m \u001b[32m━━━━━━━━━━━━━━━━━━━━\u001b[0m\u001b[37m\u001b[0m \u001b[1m26s\u001b[0m 50ms/step - accuracy: 0.6835 - loss: 0.8197 - val_accuracy: 0.9517 - val_loss: 0.4205 - learning_rate: 0.0010\n",
      "Epoch 6/200\n",
      "\u001b[1m525/525\u001b[0m \u001b[32m━━━━━━━━━━━━━━━━━━━━\u001b[0m\u001b[37m\u001b[0m \u001b[1m0s\u001b[0m 39ms/step - accuracy: 0.7097 - loss: 0.7997\n",
      "Epoch 6: val_loss improved from 0.42046 to 0.41167, saving model to VGG16(1).keras\n",
      "\u001b[1m525/525\u001b[0m \u001b[32m━━━━━━━━━━━━━━━━━━━━\u001b[0m\u001b[37m\u001b[0m \u001b[1m26s\u001b[0m 50ms/step - accuracy: 0.7097 - loss: 0.7997 - val_accuracy: 0.9200 - val_loss: 0.4117 - learning_rate: 0.0010\n",
      "Epoch 7/200\n",
      "\u001b[1m525/525\u001b[0m \u001b[32m━━━━━━━━━━━━━━━━━━━━\u001b[0m\u001b[37m\u001b[0m \u001b[1m0s\u001b[0m 39ms/step - accuracy: 0.7078 - loss: 0.7743\n",
      "Epoch 7: val_loss improved from 0.41167 to 0.36917, saving model to VGG16(1).keras\n",
      "\u001b[1m525/525\u001b[0m \u001b[32m━━━━━━━━━━━━━━━━━━━━\u001b[0m\u001b[37m\u001b[0m \u001b[1m26s\u001b[0m 50ms/step - accuracy: 0.7079 - loss: 0.7743 - val_accuracy: 0.9383 - val_loss: 0.3692 - learning_rate: 0.0010\n",
      "Epoch 8/200\n",
      "\u001b[1m525/525\u001b[0m \u001b[32m━━━━━━━━━━━━━━━━━━━━\u001b[0m\u001b[37m\u001b[0m \u001b[1m0s\u001b[0m 38ms/step - accuracy: 0.7228 - loss: 0.7440\n",
      "Epoch 8: val_loss improved from 0.36917 to 0.32417, saving model to VGG16(1).keras\n",
      "\u001b[1m525/525\u001b[0m \u001b[32m━━━━━━━━━━━━━━━━━━━━\u001b[0m\u001b[37m\u001b[0m \u001b[1m26s\u001b[0m 50ms/step - accuracy: 0.7228 - loss: 0.7440 - val_accuracy: 0.9483 - val_loss: 0.3242 - learning_rate: 0.0010\n",
      "Epoch 9/200\n",
      "\u001b[1m525/525\u001b[0m \u001b[32m━━━━━━━━━━━━━━━━━━━━\u001b[0m\u001b[37m\u001b[0m \u001b[1m0s\u001b[0m 38ms/step - accuracy: 0.7231 - loss: 0.7510\n",
      "Epoch 9: val_loss did not improve from 0.32417\n",
      "\u001b[1m525/525\u001b[0m \u001b[32m━━━━━━━━━━━━━━━━━━━━\u001b[0m\u001b[37m\u001b[0m \u001b[1m26s\u001b[0m 49ms/step - accuracy: 0.7231 - loss: 0.7510 - val_accuracy: 0.9567 - val_loss: 0.3270 - learning_rate: 0.0010\n",
      "Epoch 10/200\n",
      "\u001b[1m525/525\u001b[0m \u001b[32m━━━━━━━━━━━━━━━━━━━━\u001b[0m\u001b[37m\u001b[0m \u001b[1m0s\u001b[0m 38ms/step - accuracy: 0.7401 - loss: 0.7417\n",
      "Epoch 10: val_loss did not improve from 0.32417\n",
      "\u001b[1m525/525\u001b[0m \u001b[32m━━━━━━━━━━━━━━━━━━━━\u001b[0m\u001b[37m\u001b[0m \u001b[1m26s\u001b[0m 49ms/step - accuracy: 0.7401 - loss: 0.7417 - val_accuracy: 0.9633 - val_loss: 0.3267 - learning_rate: 0.0010\n",
      "Epoch 11/200\n",
      "\u001b[1m525/525\u001b[0m \u001b[32m━━━━━━━━━━━━━━━━━━━━\u001b[0m\u001b[37m\u001b[0m \u001b[1m0s\u001b[0m 39ms/step - accuracy: 0.7426 - loss: 0.7328\n",
      "Epoch 11: val_loss improved from 0.32417 to 0.31607, saving model to VGG16(1).keras\n",
      "\u001b[1m525/525\u001b[0m \u001b[32m━━━━━━━━━━━━━━━━━━━━\u001b[0m\u001b[37m\u001b[0m \u001b[1m26s\u001b[0m 50ms/step - accuracy: 0.7426 - loss: 0.7328 - val_accuracy: 0.9567 - val_loss: 0.3161 - learning_rate: 0.0010\n",
      "Epoch 12/200\n",
      "\u001b[1m525/525\u001b[0m \u001b[32m━━━━━━━━━━━━━━━━━━━━\u001b[0m\u001b[37m\u001b[0m \u001b[1m0s\u001b[0m 39ms/step - accuracy: 0.7323 - loss: 0.7381\n",
      "Epoch 12: val_loss did not improve from 0.31607\n",
      "\u001b[1m525/525\u001b[0m \u001b[32m━━━━━━━━━━━━━━━━━━━━\u001b[0m\u001b[37m\u001b[0m \u001b[1m26s\u001b[0m 49ms/step - accuracy: 0.7323 - loss: 0.7381 - val_accuracy: 0.9617 - val_loss: 0.3538 - learning_rate: 0.0010\n",
      "Epoch 13/200\n",
      "\u001b[1m525/525\u001b[0m \u001b[32m━━━━━━━━━━━━━━━━━━━━\u001b[0m\u001b[37m\u001b[0m \u001b[1m0s\u001b[0m 38ms/step - accuracy: 0.7533 - loss: 0.6776\n",
      "Epoch 13: val_loss improved from 0.31607 to 0.27383, saving model to VGG16(1).keras\n",
      "\u001b[1m525/525\u001b[0m \u001b[32m━━━━━━━━━━━━━━━━━━━━\u001b[0m\u001b[37m\u001b[0m \u001b[1m26s\u001b[0m 49ms/step - accuracy: 0.7533 - loss: 0.6776 - val_accuracy: 0.9733 - val_loss: 0.2738 - learning_rate: 0.0010\n",
      "Epoch 14/200\n",
      "\u001b[1m525/525\u001b[0m \u001b[32m━━━━━━━━━━━━━━━━━━━━\u001b[0m\u001b[37m\u001b[0m \u001b[1m0s\u001b[0m 38ms/step - accuracy: 0.7548 - loss: 0.7153\n",
      "Epoch 14: val_loss did not improve from 0.27383\n",
      "\u001b[1m525/525\u001b[0m \u001b[32m━━━━━━━━━━━━━━━━━━━━\u001b[0m\u001b[37m\u001b[0m \u001b[1m26s\u001b[0m 49ms/step - accuracy: 0.7548 - loss: 0.7152 - val_accuracy: 0.9750 - val_loss: 0.2762 - learning_rate: 0.0010\n",
      "Epoch 15/200\n",
      "\u001b[1m525/525\u001b[0m \u001b[32m━━━━━━━━━━━━━━━━━━━━\u001b[0m\u001b[37m\u001b[0m \u001b[1m0s\u001b[0m 38ms/step - accuracy: 0.7400 - loss: 0.7282\n",
      "Epoch 15: val_loss did not improve from 0.27383\n",
      "\u001b[1m525/525\u001b[0m \u001b[32m━━━━━━━━━━━━━━━━━━━━\u001b[0m\u001b[37m\u001b[0m \u001b[1m26s\u001b[0m 49ms/step - accuracy: 0.7400 - loss: 0.7281 - val_accuracy: 0.9800 - val_loss: 0.2904 - learning_rate: 0.0010\n",
      "Epoch 16/200\n",
      "\u001b[1m525/525\u001b[0m \u001b[32m━━━━━━━━━━━━━━━━━━━━\u001b[0m\u001b[37m\u001b[0m \u001b[1m0s\u001b[0m 39ms/step - accuracy: 0.7647 - loss: 0.6499\n",
      "Epoch 16: val_loss did not improve from 0.27383\n",
      "\u001b[1m525/525\u001b[0m \u001b[32m━━━━━━━━━━━━━━━━━━━━\u001b[0m\u001b[37m\u001b[0m \u001b[1m26s\u001b[0m 49ms/step - accuracy: 0.7647 - loss: 0.6499 - val_accuracy: 0.9533 - val_loss: 0.2941 - learning_rate: 0.0010\n",
      "Epoch 17/200\n",
      "\u001b[1m525/525\u001b[0m \u001b[32m━━━━━━━━━━━━━━━━━━━━\u001b[0m\u001b[37m\u001b[0m \u001b[1m0s\u001b[0m 38ms/step - accuracy: 0.7529 - loss: 0.7336\n",
      "Epoch 17: val_loss improved from 0.27383 to 0.25258, saving model to VGG16(1).keras\n",
      "\u001b[1m525/525\u001b[0m \u001b[32m━━━━━━━━━━━━━━━━━━━━\u001b[0m\u001b[37m\u001b[0m \u001b[1m26s\u001b[0m 50ms/step - accuracy: 0.7529 - loss: 0.7336 - val_accuracy: 0.9783 - val_loss: 0.2526 - learning_rate: 0.0010\n",
      "Epoch 18/200\n",
      "\u001b[1m525/525\u001b[0m \u001b[32m━━━━━━━━━━━━━━━━━━━━\u001b[0m\u001b[37m\u001b[0m \u001b[1m0s\u001b[0m 39ms/step - accuracy: 0.7723 - loss: 0.6851\n",
      "Epoch 18: val_loss did not improve from 0.25258\n",
      "\u001b[1m525/525\u001b[0m \u001b[32m━━━━━━━━━━━━━━━━━━━━\u001b[0m\u001b[37m\u001b[0m \u001b[1m26s\u001b[0m 49ms/step - accuracy: 0.7723 - loss: 0.6851 - val_accuracy: 0.9667 - val_loss: 0.2938 - learning_rate: 0.0010\n",
      "Epoch 19/200\n",
      "\u001b[1m525/525\u001b[0m \u001b[32m━━━━━━━━━━━━━━━━━━━━\u001b[0m\u001b[37m\u001b[0m \u001b[1m0s\u001b[0m 38ms/step - accuracy: 0.7630 - loss: 0.6923\n",
      "Epoch 19: val_loss did not improve from 0.25258\n",
      "\u001b[1m525/525\u001b[0m \u001b[32m━━━━━━━━━━━━━━━━━━━━\u001b[0m\u001b[37m\u001b[0m \u001b[1m26s\u001b[0m 49ms/step - accuracy: 0.7630 - loss: 0.6923 - val_accuracy: 0.9767 - val_loss: 0.2712 - learning_rate: 0.0010\n",
      "Epoch 20/200\n",
      "\u001b[1m525/525\u001b[0m \u001b[32m━━━━━━━━━━━━━━━━━━━━\u001b[0m\u001b[37m\u001b[0m \u001b[1m0s\u001b[0m 39ms/step - accuracy: 0.7941 - loss: 0.6061\n",
      "Epoch 20: val_loss did not improve from 0.25258\n",
      "\u001b[1m525/525\u001b[0m \u001b[32m━━━━━━━━━━━━━━━━━━━━\u001b[0m\u001b[37m\u001b[0m \u001b[1m26s\u001b[0m 50ms/step - accuracy: 0.7940 - loss: 0.6062 - val_accuracy: 0.9600 - val_loss: 0.2707 - learning_rate: 0.0010\n",
      "Epoch 21/200\n",
      "\u001b[1m525/525\u001b[0m \u001b[32m━━━━━━━━━━━━━━━━━━━━\u001b[0m\u001b[37m\u001b[0m \u001b[1m0s\u001b[0m 39ms/step - accuracy: 0.7909 - loss: 0.6143\n",
      "Epoch 21: val_loss did not improve from 0.25258\n",
      "\u001b[1m525/525\u001b[0m \u001b[32m━━━━━━━━━━━━━━━━━━━━\u001b[0m\u001b[37m\u001b[0m \u001b[1m26s\u001b[0m 49ms/step - accuracy: 0.7909 - loss: 0.6144 - val_accuracy: 0.9650 - val_loss: 0.2528 - learning_rate: 0.0010\n",
      "Epoch 22/200\n",
      "\u001b[1m525/525\u001b[0m \u001b[32m━━━━━━━━━━━━━━━━━━━━\u001b[0m\u001b[37m\u001b[0m \u001b[1m0s\u001b[0m 39ms/step - accuracy: 0.7746 - loss: 0.6817\n",
      "Epoch 22: val_loss did not improve from 0.25258\n",
      "\n",
      "Epoch 22: ReduceLROnPlateau reducing learning rate to 0.0005000000237487257.\n",
      "\u001b[1m525/525\u001b[0m \u001b[32m━━━━━━━━━━━━━━━━━━━━\u001b[0m\u001b[37m\u001b[0m \u001b[1m26s\u001b[0m 50ms/step - accuracy: 0.7746 - loss: 0.6817 - val_accuracy: 0.9633 - val_loss: 0.2909 - learning_rate: 0.0010\n",
      "Epoch 23/200\n",
      "\u001b[1m525/525\u001b[0m \u001b[32m━━━━━━━━━━━━━━━━━━━━\u001b[0m\u001b[37m\u001b[0m \u001b[1m0s\u001b[0m 39ms/step - accuracy: 0.7871 - loss: 0.6605\n",
      "Epoch 23: val_loss did not improve from 0.25258\n",
      "\u001b[1m525/525\u001b[0m \u001b[32m━━━━━━━━━━━━━━━━━━━━\u001b[0m\u001b[37m\u001b[0m \u001b[1m26s\u001b[0m 49ms/step - accuracy: 0.7871 - loss: 0.6605 - val_accuracy: 0.9650 - val_loss: 0.2817 - learning_rate: 5.0000e-04\n",
      "Epoch 24/200\n",
      "\u001b[1m525/525\u001b[0m \u001b[32m━━━━━━━━━━━━━━━━━━━━\u001b[0m\u001b[37m\u001b[0m \u001b[1m0s\u001b[0m 39ms/step - accuracy: 0.7975 - loss: 0.6124\n",
      "Epoch 24: val_loss improved from 0.25258 to 0.25116, saving model to VGG16(1).keras\n",
      "\u001b[1m525/525\u001b[0m \u001b[32m━━━━━━━━━━━━━━━━━━━━\u001b[0m\u001b[37m\u001b[0m \u001b[1m26s\u001b[0m 50ms/step - accuracy: 0.7975 - loss: 0.6125 - val_accuracy: 0.9800 - val_loss: 0.2512 - learning_rate: 5.0000e-04\n",
      "Epoch 25/200\n",
      "\u001b[1m525/525\u001b[0m \u001b[32m━━━━━━━━━━━━━━━━━━━━\u001b[0m\u001b[37m\u001b[0m \u001b[1m0s\u001b[0m 39ms/step - accuracy: 0.7716 - loss: 0.6408\n",
      "Epoch 25: val_loss did not improve from 0.25116\n",
      "\u001b[1m525/525\u001b[0m \u001b[32m━━━━━━━━━━━━━━━━━━━━\u001b[0m\u001b[37m\u001b[0m \u001b[1m26s\u001b[0m 50ms/step - accuracy: 0.7716 - loss: 0.6408 - val_accuracy: 0.9750 - val_loss: 0.2534 - learning_rate: 5.0000e-04\n",
      "Epoch 26/200\n",
      "\u001b[1m525/525\u001b[0m \u001b[32m━━━━━━━━━━━━━━━━━━━━\u001b[0m\u001b[37m\u001b[0m \u001b[1m0s\u001b[0m 39ms/step - accuracy: 0.7960 - loss: 0.6122\n",
      "Epoch 26: val_loss improved from 0.25116 to 0.24364, saving model to VGG16(1).keras\n",
      "\u001b[1m525/525\u001b[0m \u001b[32m━━━━━━━━━━━━━━━━━━━━\u001b[0m\u001b[37m\u001b[0m \u001b[1m26s\u001b[0m 50ms/step - accuracy: 0.7960 - loss: 0.6122 - val_accuracy: 0.9817 - val_loss: 0.2436 - learning_rate: 5.0000e-04\n",
      "Epoch 27/200\n",
      "\u001b[1m525/525\u001b[0m \u001b[32m━━━━━━━━━━━━━━━━━━━━\u001b[0m\u001b[37m\u001b[0m \u001b[1m0s\u001b[0m 39ms/step - accuracy: 0.7895 - loss: 0.6031\n",
      "Epoch 27: val_loss did not improve from 0.24364\n",
      "\u001b[1m525/525\u001b[0m \u001b[32m━━━━━━━━━━━━━━━━━━━━\u001b[0m\u001b[37m\u001b[0m \u001b[1m26s\u001b[0m 50ms/step - accuracy: 0.7895 - loss: 0.6031 - val_accuracy: 0.9700 - val_loss: 0.2453 - learning_rate: 5.0000e-04\n",
      "Epoch 28/200\n",
      "\u001b[1m525/525\u001b[0m \u001b[32m━━━━━━━━━━━━━━━━━━━━\u001b[0m\u001b[37m\u001b[0m \u001b[1m0s\u001b[0m 39ms/step - accuracy: 0.7883 - loss: 0.6312\n",
      "Epoch 28: val_loss did not improve from 0.24364\n",
      "\u001b[1m525/525\u001b[0m \u001b[32m━━━━━━━━━━━━━━━━━━━━\u001b[0m\u001b[37m\u001b[0m \u001b[1m26s\u001b[0m 49ms/step - accuracy: 0.7883 - loss: 0.6312 - val_accuracy: 0.9767 - val_loss: 0.2579 - learning_rate: 5.0000e-04\n",
      "Epoch 29/200\n",
      "\u001b[1m525/525\u001b[0m \u001b[32m━━━━━━━━━━━━━━━━━━━━\u001b[0m\u001b[37m\u001b[0m \u001b[1m0s\u001b[0m 38ms/step - accuracy: 0.8081 - loss: 0.5822\n",
      "Epoch 29: val_loss improved from 0.24364 to 0.23330, saving model to VGG16(1).keras\n",
      "\u001b[1m525/525\u001b[0m \u001b[32m━━━━━━━━━━━━━━━━━━━━\u001b[0m\u001b[37m\u001b[0m \u001b[1m26s\u001b[0m 49ms/step - accuracy: 0.8081 - loss: 0.5822 - val_accuracy: 0.9700 - val_loss: 0.2333 - learning_rate: 5.0000e-04\n",
      "Epoch 30/200\n",
      "\u001b[1m525/525\u001b[0m \u001b[32m━━━━━━━━━━━━━━━━━━━━\u001b[0m\u001b[37m\u001b[0m \u001b[1m0s\u001b[0m 39ms/step - accuracy: 0.8124 - loss: 0.6043\n",
      "Epoch 30: val_loss did not improve from 0.23330\n",
      "\u001b[1m525/525\u001b[0m \u001b[32m━━━━━━━━━━━━━━━━━━━━\u001b[0m\u001b[37m\u001b[0m \u001b[1m26s\u001b[0m 49ms/step - accuracy: 0.8124 - loss: 0.6043 - val_accuracy: 0.9633 - val_loss: 0.2451 - learning_rate: 5.0000e-04\n",
      "Epoch 31/200\n",
      "\u001b[1m525/525\u001b[0m \u001b[32m━━━━━━━━━━━━━━━━━━━━\u001b[0m\u001b[37m\u001b[0m \u001b[1m0s\u001b[0m 38ms/step - accuracy: 0.8040 - loss: 0.5924\n",
      "Epoch 31: val_loss did not improve from 0.23330\n",
      "\u001b[1m525/525\u001b[0m \u001b[32m━━━━━━━━━━━━━━━━━━━━\u001b[0m\u001b[37m\u001b[0m \u001b[1m26s\u001b[0m 49ms/step - accuracy: 0.8040 - loss: 0.5924 - val_accuracy: 0.9817 - val_loss: 0.2393 - learning_rate: 5.0000e-04\n",
      "Epoch 32/200\n",
      "\u001b[1m525/525\u001b[0m \u001b[32m━━━━━━━━━━━━━━━━━━━━\u001b[0m\u001b[37m\u001b[0m \u001b[1m0s\u001b[0m 39ms/step - accuracy: 0.7951 - loss: 0.6005\n",
      "Epoch 32: val_loss did not improve from 0.23330\n",
      "\u001b[1m525/525\u001b[0m \u001b[32m━━━━━━━━━━━━━━━━━━━━\u001b[0m\u001b[37m\u001b[0m \u001b[1m26s\u001b[0m 49ms/step - accuracy: 0.7951 - loss: 0.6005 - val_accuracy: 0.9750 - val_loss: 0.2653 - learning_rate: 5.0000e-04\n",
      "Epoch 33/200\n",
      "\u001b[1m525/525\u001b[0m \u001b[32m━━━━━━━━━━━━━━━━━━━━\u001b[0m\u001b[37m\u001b[0m \u001b[1m0s\u001b[0m 39ms/step - accuracy: 0.7847 - loss: 0.6573\n",
      "Epoch 33: val_loss did not improve from 0.23330\n",
      "\u001b[1m525/525\u001b[0m \u001b[32m━━━━━━━━━━━━━━━━━━━━\u001b[0m\u001b[37m\u001b[0m \u001b[1m26s\u001b[0m 49ms/step - accuracy: 0.7848 - loss: 0.6572 - val_accuracy: 0.9700 - val_loss: 0.2667 - learning_rate: 5.0000e-04\n",
      "Epoch 34/200\n",
      "\u001b[1m525/525\u001b[0m \u001b[32m━━━━━━━━━━━━━━━━━━━━\u001b[0m\u001b[37m\u001b[0m \u001b[1m0s\u001b[0m 39ms/step - accuracy: 0.7982 - loss: 0.6222\n",
      "Epoch 34: val_loss did not improve from 0.23330\n",
      "\n",
      "Epoch 34: ReduceLROnPlateau reducing learning rate to 0.0002500000118743628.\n",
      "\u001b[1m525/525\u001b[0m \u001b[32m━━━━━━━━━━━━━━━━━━━━\u001b[0m\u001b[37m\u001b[0m \u001b[1m26s\u001b[0m 49ms/step - accuracy: 0.7982 - loss: 0.6221 - val_accuracy: 0.9817 - val_loss: 0.2385 - learning_rate: 5.0000e-04\n",
      "Epoch 35/200\n",
      "\u001b[1m525/525\u001b[0m \u001b[32m━━━━━━━━━━━━━━━━━━━━\u001b[0m\u001b[37m\u001b[0m \u001b[1m0s\u001b[0m 38ms/step - accuracy: 0.8179 - loss: 0.5713\n",
      "Epoch 35: val_loss improved from 0.23330 to 0.22198, saving model to VGG16(1).keras\n",
      "\u001b[1m525/525\u001b[0m \u001b[32m━━━━━━━━━━━━━━━━━━━━\u001b[0m\u001b[37m\u001b[0m \u001b[1m26s\u001b[0m 49ms/step - accuracy: 0.8179 - loss: 0.5714 - val_accuracy: 0.9817 - val_loss: 0.2220 - learning_rate: 2.5000e-04\n",
      "Epoch 36/200\n",
      "\u001b[1m525/525\u001b[0m \u001b[32m━━━━━━━━━━━━━━━━━━━━\u001b[0m\u001b[37m\u001b[0m \u001b[1m0s\u001b[0m 39ms/step - accuracy: 0.8071 - loss: 0.6037\n",
      "Epoch 36: val_loss did not improve from 0.22198\n",
      "\u001b[1m525/525\u001b[0m \u001b[32m━━━━━━━━━━━━━━━━━━━━\u001b[0m\u001b[37m\u001b[0m \u001b[1m26s\u001b[0m 49ms/step - accuracy: 0.8071 - loss: 0.6037 - val_accuracy: 0.9817 - val_loss: 0.2253 - learning_rate: 2.5000e-04\n",
      "Epoch 37/200\n",
      "\u001b[1m525/525\u001b[0m \u001b[32m━━━━━━━━━━━━━━━━━━━━\u001b[0m\u001b[37m\u001b[0m \u001b[1m0s\u001b[0m 39ms/step - accuracy: 0.8063 - loss: 0.5806\n",
      "Epoch 37: val_loss improved from 0.22198 to 0.20599, saving model to VGG16(1).keras\n",
      "\u001b[1m525/525\u001b[0m \u001b[32m━━━━━━━━━━━━━━━━━━━━\u001b[0m\u001b[37m\u001b[0m \u001b[1m26s\u001b[0m 50ms/step - accuracy: 0.8063 - loss: 0.5806 - val_accuracy: 0.9850 - val_loss: 0.2060 - learning_rate: 2.5000e-04\n",
      "Epoch 38/200\n",
      "\u001b[1m525/525\u001b[0m \u001b[32m━━━━━━━━━━━━━━━━━━━━\u001b[0m\u001b[37m\u001b[0m \u001b[1m0s\u001b[0m 39ms/step - accuracy: 0.8158 - loss: 0.5728\n",
      "Epoch 38: val_loss did not improve from 0.20599\n",
      "\u001b[1m525/525\u001b[0m \u001b[32m━━━━━━━━━━━━━━━━━━━━\u001b[0m\u001b[37m\u001b[0m \u001b[1m26s\u001b[0m 49ms/step - accuracy: 0.8158 - loss: 0.5728 - val_accuracy: 0.9817 - val_loss: 0.2186 - learning_rate: 2.5000e-04\n",
      "Epoch 39/200\n",
      "\u001b[1m525/525\u001b[0m \u001b[32m━━━━━━━━━━━━━━━━━━━━\u001b[0m\u001b[37m\u001b[0m \u001b[1m0s\u001b[0m 38ms/step - accuracy: 0.8137 - loss: 0.5814\n",
      "Epoch 39: val_loss did not improve from 0.20599\n",
      "\u001b[1m525/525\u001b[0m \u001b[32m━━━━━━━━━━━━━━━━━━━━\u001b[0m\u001b[37m\u001b[0m \u001b[1m26s\u001b[0m 49ms/step - accuracy: 0.8137 - loss: 0.5814 - val_accuracy: 0.9767 - val_loss: 0.2181 - learning_rate: 2.5000e-04\n",
      "Epoch 40/200\n",
      "\u001b[1m525/525\u001b[0m \u001b[32m━━━━━━━━━━━━━━━━━━━━\u001b[0m\u001b[37m\u001b[0m \u001b[1m0s\u001b[0m 38ms/step - accuracy: 0.8227 - loss: 0.5274\n",
      "Epoch 40: val_loss did not improve from 0.20599\n",
      "\u001b[1m525/525\u001b[0m \u001b[32m━━━━━━━━━━━━━━━━━━━━\u001b[0m\u001b[37m\u001b[0m \u001b[1m26s\u001b[0m 49ms/step - accuracy: 0.8227 - loss: 0.5275 - val_accuracy: 0.9783 - val_loss: 0.2133 - learning_rate: 2.5000e-04\n",
      "Epoch 41/200\n",
      "\u001b[1m525/525\u001b[0m \u001b[32m━━━━━━━━━━━━━━━━━━━━\u001b[0m\u001b[37m\u001b[0m \u001b[1m0s\u001b[0m 39ms/step - accuracy: 0.7904 - loss: 0.6098\n",
      "Epoch 41: val_loss did not improve from 0.20599\n",
      "\u001b[1m525/525\u001b[0m \u001b[32m━━━━━━━━━━━━━━━━━━━━\u001b[0m\u001b[37m\u001b[0m \u001b[1m26s\u001b[0m 49ms/step - accuracy: 0.7904 - loss: 0.6098 - val_accuracy: 0.9800 - val_loss: 0.2243 - learning_rate: 2.5000e-04\n",
      "Epoch 42/200\n",
      "\u001b[1m525/525\u001b[0m \u001b[32m━━━━━━━━━━━━━━━━━━━━\u001b[0m\u001b[37m\u001b[0m \u001b[1m0s\u001b[0m 39ms/step - accuracy: 0.7999 - loss: 0.6163\n",
      "Epoch 42: val_loss did not improve from 0.20599\n",
      "\n",
      "Epoch 42: ReduceLROnPlateau reducing learning rate to 0.0001250000059371814.\n",
      "\u001b[1m525/525\u001b[0m \u001b[32m━━━━━━━━━━━━━━━━━━━━\u001b[0m\u001b[37m\u001b[0m \u001b[1m26s\u001b[0m 49ms/step - accuracy: 0.7999 - loss: 0.6163 - val_accuracy: 0.9750 - val_loss: 0.2192 - learning_rate: 2.5000e-04\n",
      "Epoch 43/200\n",
      "\u001b[1m525/525\u001b[0m \u001b[32m━━━━━━━━━━━━━━━━━━━━\u001b[0m\u001b[37m\u001b[0m \u001b[1m0s\u001b[0m 38ms/step - accuracy: 0.8063 - loss: 0.5824\n",
      "Epoch 43: val_loss did not improve from 0.20599\n",
      "\u001b[1m525/525\u001b[0m \u001b[32m━━━━━━━━━━━━━━━━━━━━\u001b[0m\u001b[37m\u001b[0m \u001b[1m26s\u001b[0m 49ms/step - accuracy: 0.8063 - loss: 0.5824 - val_accuracy: 0.9783 - val_loss: 0.2194 - learning_rate: 1.2500e-04\n",
      "Epoch 44/200\n",
      "\u001b[1m525/525\u001b[0m \u001b[32m━━━━━━━━━━━━━━━━━━━━\u001b[0m\u001b[37m\u001b[0m \u001b[1m0s\u001b[0m 38ms/step - accuracy: 0.8355 - loss: 0.5628\n",
      "Epoch 44: val_loss did not improve from 0.20599\n",
      "\u001b[1m525/525\u001b[0m \u001b[32m━━━━━━━━━━━━━━━━━━━━\u001b[0m\u001b[37m\u001b[0m \u001b[1m26s\u001b[0m 49ms/step - accuracy: 0.8355 - loss: 0.5629 - val_accuracy: 0.9767 - val_loss: 0.2187 - learning_rate: 1.2500e-04\n",
      "Epoch 45/200\n",
      "\u001b[1m525/525\u001b[0m \u001b[32m━━━━━━━━━━━━━━━━━━━━\u001b[0m\u001b[37m\u001b[0m \u001b[1m0s\u001b[0m 38ms/step - accuracy: 0.8098 - loss: 0.5506\n",
      "Epoch 45: val_loss did not improve from 0.20599\n",
      "\u001b[1m525/525\u001b[0m \u001b[32m━━━━━━━━━━━━━━━━━━━━\u001b[0m\u001b[37m\u001b[0m \u001b[1m26s\u001b[0m 49ms/step - accuracy: 0.8098 - loss: 0.5506 - val_accuracy: 0.9783 - val_loss: 0.2183 - learning_rate: 1.2500e-04\n",
      "Epoch 46/200\n",
      "\u001b[1m525/525\u001b[0m \u001b[32m━━━━━━━━━━━━━━━━━━━━\u001b[0m\u001b[37m\u001b[0m \u001b[1m0s\u001b[0m 39ms/step - accuracy: 0.7975 - loss: 0.6028\n",
      "Epoch 46: val_loss did not improve from 0.20599\n",
      "\u001b[1m525/525\u001b[0m \u001b[32m━━━━━━━━━━━━━━━━━━━━\u001b[0m\u001b[37m\u001b[0m \u001b[1m26s\u001b[0m 49ms/step - accuracy: 0.7975 - loss: 0.6028 - val_accuracy: 0.9850 - val_loss: 0.2255 - learning_rate: 1.2500e-04\n",
      "Epoch 47/200\n",
      "\u001b[1m525/525\u001b[0m \u001b[32m━━━━━━━━━━━━━━━━━━━━\u001b[0m\u001b[37m\u001b[0m \u001b[1m0s\u001b[0m 39ms/step - accuracy: 0.8297 - loss: 0.5527\n",
      "Epoch 47: val_loss did not improve from 0.20599\n",
      "\n",
      "Epoch 47: ReduceLROnPlateau reducing learning rate to 6.25000029685907e-05.\n",
      "\u001b[1m525/525\u001b[0m \u001b[32m━━━━━━━━━━━━━━━━━━━━\u001b[0m\u001b[37m\u001b[0m \u001b[1m26s\u001b[0m 50ms/step - accuracy: 0.8297 - loss: 0.5527 - val_accuracy: 0.9833 - val_loss: 0.2276 - learning_rate: 1.2500e-04\n",
      "Epoch 48/200\n",
      "\u001b[1m525/525\u001b[0m \u001b[32m━━━━━━━━━━━━━━━━━━━━\u001b[0m\u001b[37m\u001b[0m \u001b[1m0s\u001b[0m 39ms/step - accuracy: 0.8279 - loss: 0.5351\n",
      "Epoch 48: val_loss did not improve from 0.20599\n",
      "\u001b[1m525/525\u001b[0m \u001b[32m━━━━━━━━━━━━━━━━━━━━\u001b[0m\u001b[37m\u001b[0m \u001b[1m26s\u001b[0m 49ms/step - accuracy: 0.8279 - loss: 0.5351 - val_accuracy: 0.9833 - val_loss: 0.2182 - learning_rate: 6.2500e-05\n",
      "Epoch 49/200\n",
      "\u001b[1m525/525\u001b[0m \u001b[32m━━━━━━━━━━━━━━━━━━━━\u001b[0m\u001b[37m\u001b[0m \u001b[1m0s\u001b[0m 38ms/step - accuracy: 0.8219 - loss: 0.5699\n",
      "Epoch 49: val_loss did not improve from 0.20599\n",
      "\u001b[1m525/525\u001b[0m \u001b[32m━━━━━━━━━━━━━━━━━━━━\u001b[0m\u001b[37m\u001b[0m \u001b[1m26s\u001b[0m 49ms/step - accuracy: 0.8219 - loss: 0.5699 - val_accuracy: 0.9833 - val_loss: 0.2182 - learning_rate: 6.2500e-05\n",
      "Epoch 50/200\n",
      "\u001b[1m525/525\u001b[0m \u001b[32m━━━━━━━━━━━━━━━━━━━━\u001b[0m\u001b[37m\u001b[0m \u001b[1m0s\u001b[0m 39ms/step - accuracy: 0.8048 - loss: 0.5790\n",
      "Epoch 50: val_loss did not improve from 0.20599\n",
      "\u001b[1m525/525\u001b[0m \u001b[32m━━━━━━━━━━━━━━━━━━━━\u001b[0m\u001b[37m\u001b[0m \u001b[1m26s\u001b[0m 49ms/step - accuracy: 0.8048 - loss: 0.5790 - val_accuracy: 0.9850 - val_loss: 0.2205 - learning_rate: 6.2500e-05\n",
      "Epoch 51/200\n",
      "\u001b[1m525/525\u001b[0m \u001b[32m━━━━━━━━━━━━━━━━━━━━\u001b[0m\u001b[37m\u001b[0m \u001b[1m0s\u001b[0m 39ms/step - accuracy: 0.8221 - loss: 0.5525\n",
      "Epoch 51: val_loss did not improve from 0.20599\n",
      "\u001b[1m525/525\u001b[0m \u001b[32m━━━━━━━━━━━━━━━━━━━━\u001b[0m\u001b[37m\u001b[0m \u001b[1m26s\u001b[0m 49ms/step - accuracy: 0.8221 - loss: 0.5525 - val_accuracy: 0.9850 - val_loss: 0.2119 - learning_rate: 6.2500e-05\n",
      "Epoch 52/200\n",
      "\u001b[1m525/525\u001b[0m \u001b[32m━━━━━━━━━━━━━━━━━━━━\u001b[0m\u001b[37m\u001b[0m \u001b[1m0s\u001b[0m 38ms/step - accuracy: 0.8201 - loss: 0.5760\n",
      "Epoch 52: val_loss did not improve from 0.20599\n",
      "\n",
      "Epoch 52: ReduceLROnPlateau reducing learning rate to 3.125000148429535e-05.\n",
      "\u001b[1m525/525\u001b[0m \u001b[32m━━━━━━━━━━━━━━━━━━━━\u001b[0m\u001b[37m\u001b[0m \u001b[1m26s\u001b[0m 49ms/step - accuracy: 0.8201 - loss: 0.5760 - val_accuracy: 0.9783 - val_loss: 0.2157 - learning_rate: 6.2500e-05\n",
      "Epoch 53/200\n",
      "\u001b[1m525/525\u001b[0m \u001b[32m━━━━━━━━━━━━━━━━━━━━\u001b[0m\u001b[37m\u001b[0m \u001b[1m0s\u001b[0m 39ms/step - accuracy: 0.8264 - loss: 0.5182\n",
      "Epoch 53: val_loss did not improve from 0.20599\n",
      "\u001b[1m525/525\u001b[0m \u001b[32m━━━━━━━━━━━━━━━━━━━━\u001b[0m\u001b[37m\u001b[0m \u001b[1m26s\u001b[0m 49ms/step - accuracy: 0.8264 - loss: 0.5183 - val_accuracy: 0.9817 - val_loss: 0.2138 - learning_rate: 3.1250e-05\n",
      "Epoch 54/200\n",
      "\u001b[1m525/525\u001b[0m \u001b[32m━━━━━━━━━━━━━━━━━━━━\u001b[0m\u001b[37m\u001b[0m \u001b[1m0s\u001b[0m 39ms/step - accuracy: 0.8125 - loss: 0.5991\n",
      "Epoch 54: val_loss did not improve from 0.20599\n",
      "\u001b[1m525/525\u001b[0m \u001b[32m━━━━━━━━━━━━━━━━━━━━\u001b[0m\u001b[37m\u001b[0m \u001b[1m26s\u001b[0m 49ms/step - accuracy: 0.8125 - loss: 0.5991 - val_accuracy: 0.9800 - val_loss: 0.2121 - learning_rate: 3.1250e-05\n",
      "Epoch 55/200\n",
      "\u001b[1m525/525\u001b[0m \u001b[32m━━━━━━━━━━━━━━━━━━━━\u001b[0m\u001b[37m\u001b[0m \u001b[1m0s\u001b[0m 39ms/step - accuracy: 0.8023 - loss: 0.6214\n",
      "Epoch 55: val_loss did not improve from 0.20599\n",
      "\u001b[1m525/525\u001b[0m \u001b[32m━━━━━━━━━━━━━━━━━━━━\u001b[0m\u001b[37m\u001b[0m \u001b[1m26s\u001b[0m 49ms/step - accuracy: 0.8023 - loss: 0.6214 - val_accuracy: 0.9800 - val_loss: 0.2174 - learning_rate: 3.1250e-05\n",
      "Epoch 56/200\n",
      "\u001b[1m525/525\u001b[0m \u001b[32m━━━━━━━━━━━━━━━━━━━━\u001b[0m\u001b[37m\u001b[0m \u001b[1m0s\u001b[0m 39ms/step - accuracy: 0.8184 - loss: 0.5372\n",
      "Epoch 56: val_loss did not improve from 0.20599\n",
      "\u001b[1m525/525\u001b[0m \u001b[32m━━━━━━━━━━━━━━━━━━━━\u001b[0m\u001b[37m\u001b[0m \u001b[1m26s\u001b[0m 49ms/step - accuracy: 0.8184 - loss: 0.5373 - val_accuracy: 0.9800 - val_loss: 0.2222 - learning_rate: 3.1250e-05\n",
      "Epoch 57/200\n",
      "\u001b[1m525/525\u001b[0m \u001b[32m━━━━━━━━━━━━━━━━━━━━\u001b[0m\u001b[37m\u001b[0m \u001b[1m0s\u001b[0m 38ms/step - accuracy: 0.8121 - loss: 0.5796\n",
      "Epoch 57: val_loss did not improve from 0.20599\n",
      "\n",
      "Epoch 57: ReduceLROnPlateau reducing learning rate to 1.5625000742147677e-05.\n",
      "\u001b[1m525/525\u001b[0m \u001b[32m━━━━━━━━━━━━━━━━━━━━\u001b[0m\u001b[37m\u001b[0m \u001b[1m26s\u001b[0m 49ms/step - accuracy: 0.8121 - loss: 0.5796 - val_accuracy: 0.9783 - val_loss: 0.2116 - learning_rate: 3.1250e-05\n"
     ]
    }
   ],
   "source": [
    "with tf.device('/GPU:0'):  # Forces GPU usage\n",
    "    history = model.fit(\n",
    "        train_dataset,\n",
    "        validation_data=val_dataset,\n",
    "        epochs=200,  # Increase if needed\n",
    "        callbacks=[checkpoint, early_stopping, reduce_lr]\n",
    "    )"
   ]
  },
  {
   "cell_type": "code",
   "execution_count": 15,
   "metadata": {},
   "outputs": [],
   "source": [
    "# Load the best saved model\n",
    "best_model = load_model(BEST_MODEL_PATH)"
   ]
  },
  {
   "cell_type": "code",
   "execution_count": 16,
   "metadata": {},
   "outputs": [
    {
     "name": "stdout",
     "output_type": "stream",
     "text": [
      "\u001b[1m150/150\u001b[0m \u001b[32m━━━━━━━━━━━━━━━━━━━━\u001b[0m\u001b[37m\u001b[0m \u001b[1m7s\u001b[0m 39ms/step - accuracy: 0.9911 - loss: 0.2120\n",
      "Validation Accuracy: 98.50%\n"
     ]
    }
   ],
   "source": [
    "# Evaluate on validation set\n",
    "val_loss, val_acc = best_model.evaluate(val_dataset)\n",
    "print(f\"Validation Accuracy: {val_acc * 100:.2f}%\")"
   ]
  },
  {
   "cell_type": "code",
   "execution_count": 17,
   "metadata": {},
   "outputs": [
    {
     "data": {
      "image/png": "[encoded data removed]",
      "text/plain": [
       "<Figure size 1500x500 with 2 Axes>"
      ]
     },
     "metadata": {},
     "output_type": "display_data"
    }
   ],
   "source": [
    "train_acc = history.history['accuracy']\n",
    "val_acc = history.history['val_accuracy']\n",
    "train_loss = history.history['loss']\n",
    "val_loss = history.history['val_loss']\n",
    "epochs = range(1, len(train_acc) + 1)\n",
    "\n",
    "fig, axs = plt.subplots(1, 2, figsize=(15, 5))\n",
    "\n",
    "# Plot Accuracy\n",
    "axs[0].plot(epochs, train_acc, 'b', label='Training Accuracy')\n",
    "axs[0].plot(epochs, val_acc, 'r', label='Validation Accuracy')\n",
    "axs[0].set_title('Training and Validation Accuracy')\n",
    "axs[0].set_xlabel('Epochs')\n",
    "axs[0].set_ylabel('Accuracy')\n",
    "axs[0].legend()\n",
    "\n",
    "# Plot Loss\n",
    "axs[1].plot(epochs, train_loss, 'b', label='Training Loss')\n",
    "axs[1].plot(epochs, val_loss, 'r', label='Validation Loss')\n",
    "axs[1].set_title('Training and Validation Loss')\n",
    "axs[1].set_xlabel('Epochs')\n",
    "axs[1].set_ylabel('Loss')\n",
    "axs[1].legend()\n",
    "plt.show()"
   ]
  }
 ],
 "metadata": {
  "kernelspec": {
   "display_name": "uv",
   "language": "python",
   "name": "uv"
  },
  "language_info": {
   "codemirror_mode": {
    "name": "ipython",
    "version": 3
   },
   "file_extension": ".py",
   "mimetype": "text/x-python",
   "name": "python",
   "nbconvert_exporter": "python",
   "pygments_lexer": "ipython3",
   "version": "3.11.10"
  }
 },
 "nbformat": 4,
 "nbformat_minor": 2
}

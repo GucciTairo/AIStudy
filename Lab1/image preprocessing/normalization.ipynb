{
 "cells": [
  {
   "cell_type": "code",
   "execution_count": 1,
   "metadata": {},
   "outputs": [
    {
     "name": "stderr",
     "output_type": "stream",
     "text": [
      "2025-03-11 16:12:59.701562: I tensorflow/core/util/port.cc:153] oneDNN custom operations are on. You may see slightly different numerical results due to floating-point round-off errors from different computation orders. To turn them off, set the environment variable `TF_ENABLE_ONEDNN_OPTS=0`.\n",
      "2025-03-11 16:12:59.711694: E external/local_xla/xla/stream_executor/cuda/cuda_fft.cc:477] Unable to register cuFFT factory: Attempting to register factory for plugin cuFFT when one has already been registered\n",
      "WARNING: All log messages before absl::InitializeLog() is called are written to STDERR\n",
      "E0000 00:00:1741684379.725299   84524 cuda_dnn.cc:8310] Unable to register cuDNN factory: Attempting to register factory for plugin cuDNN when one has already been registered\n",
      "E0000 00:00:1741684379.729049   84524 cuda_blas.cc:1418] Unable to register cuBLAS factory: Attempting to register factory for plugin cuBLAS when one has already been registered\n",
      "2025-03-11 16:12:59.742291: I tensorflow/core/platform/cpu_feature_guard.cc:210] This TensorFlow binary is optimized to use available CPU instructions in performance-critical operations.\n",
      "To enable the following instructions: AVX2 AVX512F AVX512_VNNI FMA, in other operations, rebuild TensorFlow with the appropriate compiler flags.\n"
     ]
    }
   ],
   "source": [
    "import os\n",
    "import numpy as np\n",
    "from tensorflow.keras.preprocessing.image import load_img, img_to_array"
   ]
  },
  {
   "cell_type": "code",
   "execution_count": 2,
   "metadata": {},
   "outputs": [],
   "source": [
    "\n",
    "# Dataset paths\n",
    "train_dir = \"/media/tairo/Storages/DataSetAnimals/animals/train\"\n",
    "test_dir = \"/media/tairo/Storages/DataSetAnimals/animals/test\"\n",
    "val_dir = \"/media/tairo/Storages/DataSetAnimals/animals/val\""
   ]
  },
  {
   "cell_type": "code",
   "execution_count": 3,
   "metadata": {},
   "outputs": [],
   "source": [
    "\n",
    "# Target image size\n",
    "IMG_SIZE = (224, 224)"
   ]
  },
  {
   "cell_type": "code",
   "execution_count": 4,
   "metadata": {},
   "outputs": [],
   "source": [
    "# Function to load, normalize, and save images\n",
    "def process_and_save(folder, output_x, output_y):\n",
    "    images, labels = [], []\n",
    "    class_names = sorted(os.listdir(folder))  # Get class names\n",
    "\n",
    "    for class_idx, class_name in enumerate(class_names):\n",
    "        class_path = os.path.join(folder, class_name)\n",
    "        if not os.path.isdir(class_path):\n",
    "            continue\n",
    "\n",
    "        for img_name in os.listdir(class_path):\n",
    "            img_path = os.path.join(class_path, img_name)\n",
    "\n",
    "            # Load and convert image\n",
    "            img = load_img(img_path, target_size=IMG_SIZE)  # Load & resize\n",
    "            img_array = img_to_array(img).astype(np.float32)  # Convert to float32\n",
    "            img_array /= 255.0  # Normalize to [0,1]\n",
    "\n",
    "            images.append(img_array)\n",
    "            labels.append(class_idx)\n",
    "\n",
    "    # Convert to numpy arrays\n",
    "    images = np.array(images)\n",
    "    labels = np.array(labels)\n",
    "\n",
    "    # Save as .npy files\n",
    "    np.save(output_x, images)\n",
    "    np.save(output_y, labels)\n",
    "    print(f\"Saved {output_x} and {output_y}\")"
   ]
  },
  {
   "cell_type": "code",
   "execution_count": 5,
   "metadata": {},
   "outputs": [
    {
     "name": "stdout",
     "output_type": "stream",
     "text": [
      "Saved X_train.npy and y_train.npy\n",
      "Saved X_test.npy and y_test.npy\n",
      "Saved X_val.npy and y_val.npy\n",
      "Dataset normalization complete! All images are now in [0,1] and saved as .npy files.\n"
     ]
    }
   ],
   "source": [
    "# Process and save datasets\n",
    "process_and_save(train_dir, \"X_train.npy\", \"y_train.npy\")\n",
    "process_and_save(test_dir, \"X_test.npy\", \"y_test.npy\")\n",
    "process_and_save(val_dir, \"X_val.npy\", \"y_val.npy\")\n",
    "\n",
   ]
  }
 ],
 "metadata": {
  "kernelspec": {
   "display_name": "uv",
   "language": "python",
   "name": "uv"
  },
  "language_info": {
   "codemirror_mode": {
    "name": "ipython",
    "version": 3
   },
   "file_extension": ".py",
   "mimetype": "text/x-python",
   "name": "python",
   "nbconvert_exporter": "python",
   "pygments_lexer": "ipython3",
   "version": "3.11.10"
  }
 },
 "nbformat": 4,
 "nbformat_minor": 2
}

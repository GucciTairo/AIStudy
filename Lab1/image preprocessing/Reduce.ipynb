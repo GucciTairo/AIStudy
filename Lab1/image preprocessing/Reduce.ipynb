{
 "cells": [
  {
   "cell_type": "code",
   "execution_count": 1,
   "metadata": {},
   "outputs": [],
   "source": [
    "import os\n",
    "import random"
   ]
  },
  {
   "cell_type": "code",
   "execution_count": 2,
   "metadata": {},
   "outputs": [],
   "source": [
    "# Base dataset directory\n",
    "base_path = \"/media/tairo/Storages/DataSetAnimals/animals\""
   ]
  },
  {
   "cell_type": "code",
   "execution_count": 3,
   "metadata": {},
   "outputs": [],
   "source": [
    "# Define target image counts\n",
    "target_counts = {\n",
    "    \"train\": 700,\n",
    "    \"val\": 200,\n",
    "    \"test\": 100\n",
    "}\n"
   ]
  },
  {
   "cell_type": "code",
   "execution_count": 4,
   "metadata": {},
   "outputs": [],
   "source": [
    "def reduce_images(set_name):\n",
    "    set_path = os.path.join(base_path, set_name)\n",
    "\n",
    "    if not os.path.exists(set_path):\n",
    "        print(f\"Skipping {set_path}, does not exist.\")\n",
    "        return\n",
    "\n",
    "    # Iterate over all classes (folders) in train, val, test\n",
    "    for class_name in os.listdir(set_path):\n",
    "        class_path = os.path.join(set_path, class_name)\n",
    "\n",
    "        if not os.path.isdir(class_path):  # Skip non-folder files\n",
    "            continue\n",
    "\n",
    "        images = [f for f in os.listdir(class_path) if f.lower().endswith(('.png', '.jpg', '.jpeg'))]\n",
    "        current_count = len(images)\n",
    "        target_count = target_counts[set_name]\n",
    "\n",
    "        print(f\"{class_name} in {set_name}: {current_count} images found.\")\n",
    "\n",
    "        if current_count > target_count:\n",
    "            remove_count = current_count - target_count\n",
    "            images_to_remove = random.sample(images, remove_count)\n",
    "\n",
    "            for img in images_to_remove:\n",
    "                os.remove(os.path.join(class_path, img))\n",
    "\n",
    "            print(f\"Removed {remove_count} images from {class_path}\")\n",
    "        else:\n",
    "            print(f\"No removal needed for {class_name} in {set_name}.\")"
   ]
  },
  {
   "cell_type": "code",
   "execution_count": 5,
   "metadata": {},
   "outputs": [
    {
     "name": "stdout",
     "output_type": "stream",
     "text": [
      "dog in train: 1838 images found.\n",
      "Removed 1138 images from /media/tairo/Storages/DataSetAnimals/animals/train/dog\n",
      "horse in train: 1893 images found.\n",
      "Removed 1193 images from /media/tairo/Storages/DataSetAnimals/animals/train/horse\n",
      "cat in train: 1915 images found.\n",
      "Removed 1215 images from /media/tairo/Storages/DataSetAnimals/animals/train/cat\n",
      "dog in val: 525 images found.\n",
      "Removed 325 images from /media/tairo/Storages/DataSetAnimals/animals/val/dog\n",
      "horse in val: 541 images found.\n",
      "Removed 341 images from /media/tairo/Storages/DataSetAnimals/animals/val/horse\n",
      "cat in val: 547 images found.\n",
      "Removed 347 images from /media/tairo/Storages/DataSetAnimals/animals/val/cat\n",
      "dog in test: 264 images found.\n",
      "Removed 164 images from /media/tairo/Storages/DataSetAnimals/animals/test/dog\n",
      "horse in test: 271 images found.\n",
      "Removed 171 images from /media/tairo/Storages/DataSetAnimals/animals/test/horse\n",
      "cat in test: 275 images found.\n",
      "Removed 175 images from /media/tairo/Storages/DataSetAnimals/animals/test/cat\n",
      "Dataset reduction complete.\n"
     ]
    }
   ],
   "source": [
    "# Run for all dataset partitions\n",
    "for dataset in [\"train\", \"val\", \"test\"]:\n",
    "    reduce_images(dataset)\n",
    "\n",
    "print(\"Dataset reduction complete.\")"
   ]
  }
 ],
 "metadata": {
  "kernelspec": {
   "display_name": "uv",
   "language": "python",
   "name": "uv"
  },
  "language_info": {
   "codemirror_mode": {
    "name": "ipython",
    "version": 3
   },
   "file_extension": ".py",
   "mimetype": "text/x-python",
   "name": "python",
   "nbconvert_exporter": "python",
   "pygments_lexer": "ipython3",
   "version": "3.11.10"
  }
 },
 "nbformat": 4,
 "nbformat_minor": 2
}

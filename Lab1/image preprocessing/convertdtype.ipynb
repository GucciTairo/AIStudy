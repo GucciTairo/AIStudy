{
 "cells": [
  {
   "cell_type": "code",
   "execution_count": 5,
   "metadata": {},
   "outputs": [],
   "source": [
    "import os\n",
    "import numpy as np\n",
    "from tensorflow.keras.preprocessing.image import load_img, img_to_array\n"
   ]
  },
  {
   "cell_type": "code",
   "execution_count": 6,
   "metadata": {},
   "outputs": [],
   "source": [
    "# Dataset paths\n",
    "train_dir = \"/media/tairo/Storages/DataSetAnimals/animals/train\"\n",
    "test_dir = \"/media/tairo/Storages/DataSetAnimals/animals/test\"\n",
    "val_dir = \"/media/tairo/Storages/DataSetAnimals/animals/val\""
   ]
  },
  {
   "cell_type": "code",
   "execution_count": 7,
   "metadata": {},
   "outputs": [],
   "source": [
    "# Target image size (unchanged for checking)\n",
    "IMG_SIZE = (224, 224)  \n",
    "# Function to check dtype of all images in a folder\n",
    "def check_all_dtypes(folder):\n",
    "    dtype_counts = {}  # Dictionary to count occurrences of each dtype\n",
    "    total_images = 0\n",
    "\n",
    "    class_names = sorted(os.listdir(folder))  # Get class names\n",
    "    \n",
    "    for class_name in class_names:\n",
    "        class_path = os.path.join(folder, class_name)\n",
    "        if not os.path.isdir(class_path):\n",
    "            continue\n",
    "        \n",
    "        for img_name in os.listdir(class_path):\n",
    "            img_path = os.path.join(class_path, img_name)\n",
    "            \n",
    "            # Load image and check dtype\n",
    "            img = load_img(img_path, target_size=IMG_SIZE)  # Load & resize\n",
    "            img_array = img_to_array(img)  # Convert to numpy array\n",
    "            dtype = str(img_array.dtype)  # Get dtype as a string\n",
    "            \n",
    "            # Count occurrences of each dtype\n",
    "            dtype_counts[dtype] = dtype_counts.get(dtype, 0) + 1\n",
    "            total_images += 1\n",
    "    \n",
    "    # Print dtype summary\n",
    "    print(f\"Dataset: {folder}\")\n",
    "    for dtype, count in dtype_counts.items():\n",
    "        print(f\"  - {dtype}: {count} images\")\n",
    "    print(f\"  Total images checked: {total_images}\\n\")"
   ]
  },
  {
   "cell_type": "code",
   "execution_count": 8,
   "metadata": {},
   "outputs": [
    {
     "name": "stdout",
     "output_type": "stream",
     "text": [
      "Dataset: /media/tairo/Storages/DataSetAnimals/animals/train\n",
      "  - float32: 2100 images\n",
      "  Total images checked: 2100\n",
      "\n",
      "Dataset: /media/tairo/Storages/DataSetAnimals/animals/test\n",
      "  - float32: 300 images\n",
      "  Total images checked: 300\n",
      "\n",
      "Dataset: /media/tairo/Storages/DataSetAnimals/animals/val\n",
      "  - float32: 600 images\n",
      "  Total images checked: 600\n",
      "\n"
     ]
    }
   ],
   "source": [
    "# Check dtype for each dataset\n",
    "check_all_dtypes(train_dir)\n",
    "check_all_dtypes(test_dir)\n",
    "check_all_dtypes(val_dir)"
   ]
  }
 ],
 "metadata": {
  "kernelspec": {
   "display_name": "uv",
   "language": "python",
   "name": "uv"
  },
  "language_info": {
   "codemirror_mode": {
    "name": "ipython",
    "version": 3
   },
   "file_extension": ".py",
   "mimetype": "text/x-python",
   "name": "python",
   "nbconvert_exporter": "python",
   "pygments_lexer": "ipython3",
   "version": "3.11.10"
  }
 },
 "nbformat": 4,
 "nbformat_minor": 2
}

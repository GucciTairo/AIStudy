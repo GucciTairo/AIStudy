{
 "cells": [
  {
   "cell_type": "code",
   "execution_count": 1,
   "metadata": {},
   "outputs": [
    {
     "name": "stderr",
     "output_type": "stream",
     "text": [
      "2025-03-11 16:12:13.699026: I tensorflow/core/util/port.cc:153] oneDNN custom operations are on. You may see slightly different numerical results due to floating-point round-off errors from different computation orders. To turn them off, set the environment variable `TF_ENABLE_ONEDNN_OPTS=0`.\n",
      "2025-03-11 16:12:13.710123: E external/local_xla/xla/stream_executor/cuda/cuda_fft.cc:477] Unable to register cuFFT factory: Attempting to register factory for plugin cuFFT when one has already been registered\n",
      "WARNING: All log messages before absl::InitializeLog() is called are written to STDERR\n",
      "E0000 00:00:1741684333.723911   84076 cuda_dnn.cc:8310] Unable to register cuDNN factory: Attempting to register factory for plugin cuDNN when one has already been registered\n",
      "E0000 00:00:1741684333.727549   84076 cuda_blas.cc:1418] Unable to register cuBLAS factory: Attempting to register factory for plugin cuBLAS when one has already been registered\n",
      "2025-03-11 16:12:13.740396: I tensorflow/core/platform/cpu_feature_guard.cc:210] This TensorFlow binary is optimized to use available CPU instructions in performance-critical operations.\n",
      "To enable the following instructions: AVX2 AVX512F AVX512_VNNI FMA, in other operations, rebuild TensorFlow with the appropriate compiler flags.\n"
     ]
    }
   ],
   "source": [
    "import os\n",
    "import numpy as np\n",
    "from tensorflow.keras.preprocessing.image import load_img, img_to_array"
   ]
  },
  {
   "cell_type": "code",
   "execution_count": 2,
   "metadata": {},
   "outputs": [],
   "source": [
    "# Dataset paths\n",
    "train_dir = \"/media/tairo/Storages/DataSetAnimals/animals/train\"\n",
    "test_dir = \"/media/tairo/Storages/DataSetAnimals/animals/test\"\n",
    "val_dir = \"/media/tairo/Storages/DataSetAnimals/animals/val\"\n"
   ]
  },
  {
   "cell_type": "code",
   "execution_count": 3,
   "metadata": {},
   "outputs": [],
   "source": [
    "# Target image size (unchanged for checking)\n",
    "IMG_SIZE = (224, 224)\n",
    "\n",
    "# Function to check normalization range\n",
    "def check_normalization(folder):\n",
    "    min_pixel = float(\"inf\")\n",
    "    max_pixel = float(\"-inf\")\n",
    "    total_images = 0\n",
    "\n",
    "    class_names = sorted(os.listdir(folder))  # Get class names\n",
    "\n",
    "    for class_name in class_names:\n",
    "        class_path = os.path.join(folder, class_name)\n",
    "        if not os.path.isdir(class_path):\n",
    "            continue\n",
    "        \n",
    "        for img_name in os.listdir(class_path):\n",
    "            img_path = os.path.join(class_path, img_name)\n",
    "            \n",
    "            # Load image\n",
    "            img = load_img(img_path, target_size=IMG_SIZE)  # Load & resize\n",
    "            img_array = img_to_array(img)  # Convert to numpy array\n",
    "            \n",
    "            # Find min and max pixel values\n",
    "            min_pixel = min(min_pixel, np.min(img_array))\n",
    "            max_pixel = max(max_pixel, np.max(img_array))\n",
    "            total_images += 1\n",
    "    \n",
    "    # Print min and max values\n",
    "    print(f\"Dataset: {folder}\")\n",
    "    print(f\"  - Min pixel value: {min_pixel}\")\n",
    "    print(f\"  - Max pixel value: {max_pixel}\")\n",
    "    print(f\"  Total images checked: {total_images}\\n\")"
   ]
  },
  {
   "cell_type": "code",
   "execution_count": 4,
   "metadata": {},
   "outputs": [
    {
     "name": "stdout",
     "output_type": "stream",
     "text": [
      "Dataset: /media/tairo/Storages/DataSetAnimals/animals/train\n",
      "  - Min pixel value: 0.0\n",
      "  - Max pixel value: 255.0\n",
      "  Total images checked: 2100\n",
      "\n",
      "Dataset: /media/tairo/Storages/DataSetAnimals/animals/test\n",
      "  - Min pixel value: 0.0\n",
      "  - Max pixel value: 255.0\n",
      "  Total images checked: 300\n",
      "\n",
      "Dataset: /media/tairo/Storages/DataSetAnimals/animals/val\n",
      "  - Min pixel value: 0.0\n",
      "  - Max pixel value: 255.0\n",
      "  Total images checked: 600\n",
      "\n"
     ]
    }
   ],
   "source": [
    "# Check normalization for each dataset\n",
    "check_normalization(train_dir)\n",
    "check_normalization(test_dir)\n",
    "check_normalization(val_dir)"
   ]
  }
 ],
 "metadata": {
  "kernelspec": {
   "display_name": "uv",
   "language": "python",
   "name": "uv"
  },
  "language_info": {
   "codemirror_mode": {
    "name": "ipython",
    "version": 3
   },
   "file_extension": ".py",
   "mimetype": "text/x-python",
   "name": "python",
   "nbconvert_exporter": "python",
   "pygments_lexer": "ipython3",
   "version": "3.11.10"
  }
 },
 "nbformat": 4,
 "nbformat_minor": 2
}

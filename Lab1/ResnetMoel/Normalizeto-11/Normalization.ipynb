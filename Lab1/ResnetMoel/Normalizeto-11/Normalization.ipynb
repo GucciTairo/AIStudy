{
 "cells": [
  {
   "cell_type": "code",
   "execution_count": null,
   "metadata": {},
   "outputs": [],
   "source": [
    "import numpy as np\n",
    "import os\n"
   ]
  },
  {
   "cell_type": "code",
   "execution_count": null,
   "metadata": {},
   "outputs": [],
   "source": [
    "# Define dataset paths\n",
    "dataset_paths = [\n",
    "    \"/media/tairo/Storages/DataSetAnimals/.npy format(-11)/X_train.npy\",\n",
    "    \"/media/tairo/Storages/DataSetAnimals/.npy format(-11)/X_val.npy\",\n",
    "    \"/media/tairo/Storages/DataSetAnimals/.npy format(-11)/X_test.npy\"\n",
    "]"
   ]
  },
  {
   "cell_type": "code",
   "execution_count": null,
   "metadata": {},
   "outputs": [],
   "source": [
    "# Function to normalize data from [0,1] to [-1,1]\n",
    "def normalize_data(file_path):\n",
    "    data = np.load(file_path)\n",
    "    data = data * 2 - 1  # Convert from [0,1] to [-1,1]\n",
    "    np.save(file_path.replace(\".npy\", \"_normalized.npy\"), data)\n",
    "    print(f\"Saved normalized data: {file_path.replace('.npy', '_normalized.npy')}\")"
   ]
  },
  {
   "cell_type": "code",
   "execution_count": null,
   "metadata": {},
   "outputs": [],
   "source": [
    "# Process each dataset\n",
    "for path in dataset_paths:\n",
    "    normalize_data(path)"
   ]
  }
 ],
 "metadata": {
  "kernelspec": {
   "display_name": "Python 3",
   "language": "python",
   "name": "python3"
  },
  "language_info": {
   "name": "python",
   "version": "3.12.3"
  }
 },
 "nbformat": 4,
 "nbformat_minor": 2
}
